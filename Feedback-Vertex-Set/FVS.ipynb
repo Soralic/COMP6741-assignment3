{
 "cells": [
  {
   "cell_type": "code",
   "execution_count": 1,
   "metadata": {
    "vscode": {
     "languageId": "python"
    }
   },
   "outputs": [],
   "source": [
    "import copy\n",
    "steps = []  \n",
    "\n",
    "def is_acyclic(graph):\n",
    "    return graph.is_forest()\n",
    "\n",
    "def feedback_vertex_set(graph, k, visited=None):\n",
    "    global steps\n",
    "    if visited is None:\n",
    "        visited = set()\n",
    "        steps = [(deepcopy(graph), k, \"Original\")]  \n",
    "\n",
    "\n",
    "    if is_acyclic(graph) and k >= 0:\n",
    "        steps.append((deepcopy(graph), k, \"Graph is acyclic, solution found\"))\n",
    "        return True\n",
    "    \n",
    "    if k < 0:\n",
    "        return False\n",
    "\n",
    "    for v in graph.vertices():\n",
    "        # Loop\n",
    "        if graph.has_edge(v, v):\n",
    "            graph.delete_vertex(v)\n",
    "            steps.append((deepcopy(graph), k, f\"Removed loop at {v}\"))\n",
    "            if feedback_vertex_set(graph, k - 1, visited):\n",
    "                return True\n",
    "\n",
    "    for u, v in graph.edges(labels=False):\n",
    "        # Multiedge\n",
    "        if graph.multiple_edges(u, v):\n",
    "            graph.merge_edges([(u, v)], loops=True)\n",
    "            steps.append((deepcopy(graph), k, f\"Merged multiple edges between {u} and {v}\"))\n",
    "    \n",
    "    for v in graph.vertices():\n",
    "        # Degree-1\n",
    "        if graph.degree(v) == 1:\n",
    "            graph_copy = deepcopy(graph)\n",
    "            graph_copy.delete_vertex(v)\n",
    "            steps.append((graph_copy, k, f\"Removed degree-1 vertex {v}\"))\n",
    "            return feedback_vertex_set(graph_copy, k, visited)\n",
    "        \n",
    "        # Degree-2\n",
    "        elif graph.degree(v) == 2:\n",
    "            u, w = graph.neighbors(v)\n",
    "            graph_copy = deepcopy(graph)\n",
    "            graph_copy.delete_vertex(v)\n",
    "            if not graph.has_edge(u, w):\n",
    "                graph_copy.add_edge(u, w)\n",
    "                if k >= 1:\n",
    "                    steps.append((graph_copy, k - 1, f\"Removed degree-2 vertex {v} and added edge {u}-{w}\"))\n",
    "            else:\n",
    "                if k >= 1:\n",
    "                    steps.append((graph_copy, k - 1, f\"Removed degree-2 vertex {v} \"))\n",
    "            if feedback_vertex_set(graph_copy, k - 1, visited):\n",
    "                return True\n",
    "            \n",
    "    # Recursive case\n",
    "    for v in graph.vertices():\n",
    "        if v not in visited:  # Avoid re-visiting the same vertex\n",
    "            visited.add(v)\n",
    "            graph_copy = deepcopy(graph)\n",
    "            graph_copy.delete_vertex(v)\n",
    "            if k >= 1:\n",
    "                steps.append((deepcopy(graph_copy), k - 1, f\"Trying removal of {v}\"))\n",
    "                if feedback_vertex_set(graph_copy, k - 1, visited):\n",
    "                    return True\n",
    "\n",
    "    return False\n",
    "\n",
    "def main(graph, k, visited=None):\n",
    "    result = feedback_vertex_set(graph, k, visited=None)\n",
    "    if not result:\n",
    "        steps.append((deepcopy(graph), k, f\"No solution!\"))\n",
    "    return result\n"
   ]
  },
  {
   "cell_type": "code",
   "execution_count": 2,
   "metadata": {
    "vscode": {
     "languageId": "python"
    }
   },
   "outputs": [
    {
     "name": "stdout",
     "output_type": "stream",
     "text": [
      "False\n"
     ]
    }
   ],
   "source": [
    "G = Graph([(1, 2), (2, 3), (3, 1), (3, 4), (4, 5), (5, 6), (6, 4)])  # Example graph\n",
    "k = 1\n",
    "print(main(G, k))"
   ]
  },
  {
   "cell_type": "code",
   "execution_count": 3,
   "metadata": {
    "vscode": {
     "languageId": "python"
    }
   },
   "outputs": [
    {
     "data": {
      "application/vnd.jupyter.widget-view+json": {
       "model_id": "620731d2ee614ec2a081ef1961ec6501",
       "version_major": 2,
       "version_minor": 0
      },
      "text/plain": [
       "Interactive function <function show_step at 0x13ec00c10> with 1 widget\n",
       "  step: TransformIntSlider(value=0, des…"
      ]
     },
     "metadata": {},
     "output_type": "display_data"
    }
   ],
   "source": [
    "@interact\n",
    "def show_step(step=slider(0, len(steps)-1, 1, label=\"Step\")):\n",
    "    graph, k, description = steps[step]\n",
    "    G_plot = graph.plot(title=f\"Step {step}: k={k}\\n{description}\",layout='circular')\n",
    "    show(G_plot)"
   ]
  }
 ],
 "metadata": {
  "kernelspec": {
   "display_name": "SageMath 9.5",
   "language": "sage",
   "name": "SageMath-9.5"
  },
  "language_info": {
   "codemirror_mode": {
    "name": "ipython",
    "version": 3
   },
   "file_extension": ".py",
   "mimetype": "text/x-python",
   "name": "sage",
   "nbconvert_exporter": "python",
   "pygments_lexer": "ipython3",
   "version": "3.9.9"
  }
 },
 "nbformat": 4,
 "nbformat_minor": 4
}
