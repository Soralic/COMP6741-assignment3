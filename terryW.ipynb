{
 "cells": [
  {
   "cell_type": "code",
   "execution_count": 1,
   "id": "41bd6d76",
   "metadata": {},
   "outputs": [],
   "source": [
    "import copy\n",
    "steps = []\n",
    "def extend_tree(G, k, T, I, B, L, X, recall):\n",
    "    #record all steps\n",
    "    recall = 0\n",
    "    \n",
    "    steps.append([copy.deepcopy(T), copy.deepcopy(I), copy.deepcopy(B), copy.deepcopy(L), copy.deepcopy(X), copy.deepcopy(recall)])\n",
    "    # Halt - yes\n",
    "    if len(L) + len(B) >= k:\n",
    "        return True\n",
    "    \n",
    "    # Halt - No\n",
    "    if len(B) == 0:\n",
    "        steps[-1][5] += 1\n",
    "        return False\n",
    "    \n",
    "    # Simplication rule：If exist v∈B with N_G(v) ∩ X = 0, then move v to L\n",
    "    B_to_L = {v for v in B if not set(G.neighbors(v)) & X}\n",
    "    for v in B_to_L:\n",
    "        B.remove(v)\n",
    "        L.add(v)\n",
    "        steps.append([copy.deepcopy(T), copy.deepcopy(I), copy.deepcopy(B), copy.deepcopy(L), copy.deepcopy(X), copy.deepcopy(recall)])\n",
    "\n",
    "    #Select u from B\n",
    "    for u in list(B):\n",
    "        \n",
    "        # branch 1: try to move a vertex from B to L\n",
    "        B.remove(u)\n",
    "        L.add(u)  \n",
    "        if extend_tree(G, k, T, I, B, L, X, recall):\n",
    "            return True\n",
    "        # recall\n",
    "        L.remove(u)\n",
    "        B.add(u)\n",
    "        steps.append([copy.deepcopy(T), copy.deepcopy(I), copy.deepcopy(B), copy.deepcopy(L), copy.deepcopy(X), copy.deepcopy(recall)])\n",
    "\n",
    "        # branch 2: handle u as a internal vertex (Branching Lemma)\n",
    "        original_u = u  # save the original vertex\n",
    "        added_edges = []  # save added edges\n",
    "        B.remove(u)\n",
    "        I.add(u)\n",
    "        neighbors_X = set(G.neighbors(u)) & X\n",
    "        \n",
    "        #Follow Path Lemma\n",
    "        while len(neighbors_X) == 1:\n",
    "            v = neighbors_X.pop()\n",
    "            X.remove(v)\n",
    "            T.add_edge(u, v)\n",
    "            added_edges.append((u, v))\n",
    "            neighbors_X = set(G.neighbors(v)) & X\n",
    "            u = v  # update v as new u(current vertex)\n",
    "            if len(neighbors_X) == 1:\n",
    "                I.add(u)\n",
    "            elif len(neighbors_X) != 1:\n",
    "                B.add(u)\n",
    "            steps.append([copy.deepcopy(T), copy.deepcopy(I), copy.deepcopy(B), copy.deepcopy(L), copy.deepcopy(X), copy.deepcopy(recall)])\n",
    "        \n",
    "        B.discard(u)\n",
    "        counter = 1\n",
    "        total_items = len(neighbors_X)\n",
    "        for v in neighbors_X:\n",
    "            T.add_edge(u, v)\n",
    "            added_edges.append((u, v))\n",
    "            B.add(v)\n",
    "            X.remove(v)\n",
    "            if counter < total_items:\n",
    "                steps.append([copy.deepcopy(T), copy.deepcopy(I), copy.deepcopy(B), copy.deepcopy(L), copy.deepcopy(X), copy.deepcopy(recall)])\n",
    "            counter += 1\n",
    "    \n",
    "        if extend_tree(G, k, T, I, B, L, X, recall):\n",
    "            return True\n",
    "    \n",
    "        # recall\n",
    "        for u, v in added_edges:\n",
    "            T.delete_edge((u, v))  # delete added edges\n",
    "            I.discard(v)\n",
    "            X.add(v)\n",
    "        I.discard(original_u)  # remove original u\n",
    "        B.add(original_u)  # add original u to B\n",
    "        X.update(neighbors_X)  # update unused vertices to X\n",
    "        for v in neighbors_X:\n",
    "            B.discard(v)  # remove vertices from B\n",
    "        steps.append([copy.deepcopy(T), copy.deepcopy(I), copy.deepcopy(B), copy.deepcopy(L), copy.deepcopy(X), copy.deepcopy(recall)])\n",
    "    steps[-1][5] += 1\n",
    "    return False\n",
    "\n",
    "def max_leaf_spanning_tree(G, k):\n",
    "    T = Graph()\n",
    "    I = set()\n",
    "    L = set()\n",
    "    B = set()\n",
    "    X = set(G.vertices())\n",
    "    recall = 0\n",
    "    # save initial state\n",
    "    steps.append([copy.deepcopy(T), copy.deepcopy(I), copy.deepcopy(B), copy.deepcopy(L), copy.deepcopy(X), copy.deepcopy(recall)])\n",
    "    for r in G.vertices():\n",
    "        T = Graph() #a tree in G\n",
    "        T.add_vertex(r) #add initial vertex to T\n",
    "        I = set()  # the internal vertices of T, with r∈I\n",
    "        L = set()  # the remaining leaves of T\n",
    "        B = {r}  # a subset of the leaves of T where T may be extended: the boundary set\n",
    "        X = set(G.vertices()) - {r}  # the external vertices V\\V(T)\n",
    "\n",
    "        if extend_tree(G, k, T, I, B, L, X, recall):\n",
    "            return True, T\n",
    "    return False, None\n"
   ]
  },
  {
   "cell_type": "code",
   "execution_count": 2,
   "id": "ec8c9000",
   "metadata": {},
   "outputs": [
    {
     "name": "stdout",
     "output_type": "stream",
     "text": [
      "Not Exist a spanning tree with maximum leaf number of 4.\n"
     ]
    }
   ],
   "source": [
    "# use example\n",
    "G = Graph([('a', 'b'), ('b', 'c'), ('c', 'a'), ('c', 'd'), ('d', 'e')])  \n",
    "k = 3  # target least number of leaves\n",
    "result, T = max_leaf_spanning_tree(G, k)\n",
    "if result:\n",
    "    print(\"Exist a spanning tree with maximum leaf number of {}.\".format(k))\n",
    "else:\n",
    "    print(\"Not Exist a spanning tree with maximum leaf number of {}.\".format(k))"
   ]
  },
  {
   "cell_type": "code",
   "execution_count": 3,
   "id": "b8204d5c",
   "metadata": {},
   "outputs": [
    {
     "name": "stderr",
     "output_type": "stream",
     "text": [
      "Widget Javascript not detected.  It may not be installed or enabled properly. Reconnecting the current kernel may help.\n"
     ]
    },
    {
     "data": {
      "application/vnd.jupyter.widget-view+json": {
       "model_id": "4593dfab0d964457a76e69e4d2c3555c"
      }
     },
     "metadata": {},
     "output_type": "display_data"
    }
   ],
   "source": [
    "@interact\n",
    "def show_step(step=slider(0, len(steps)-1, 1, label=\"Step\")):\n",
    "    T, I, B, L, X, recall = steps[step]\n",
    "    # vertex colors\n",
    "    vertex_colors = {'green': list(L), 'red': list(B), 'white': list(X), 'yellow': list(I)}\n",
    "\n",
    "    # edge_colors\n",
    "    edge_colors = {'yellow': T.edges(labels=False)}\n",
    "    \n",
    "    # plot graph\n",
    "    G_plot = G.plot(vertex_colors=vertex_colors, edge_colors=edge_colors, layout='circular')\n",
    "    \n",
    "    # show current steps of algorithm\n",
    "    \n",
    "    print(\"The current tree T are represented in yellow, the nodes in B are in red, the nodes in L are in green,\")\n",
    "    print(\" and the remaining unchanged parts(X) set to white.\")\n",
    "    print(f\"Current state: I:{I}, B:{B}, L:{L}, X:{X}, k:{k}\")\n",
    "    if recall == 1:\n",
    "        print(f\"The algorithm has hit a dead end, this state will recall {recall} steps.\")\n",
    "    elif recall == 3:\n",
    "        print(f\"This initial vertex is not available, the state will recall to initial graph and choose a new initial vertex.\")\n",
    "    if step == len(steps)-1:\n",
    "        if result:\n",
    "            print(f\"The number of sum of vertices in B and vertices in L has reached k:{k}.\")\n",
    "            print(f\"YES. The branching algorithm find a maximum leaf spanning tree.\")\n",
    "        else:\n",
    "            print(f\"The branching algorithm has test all viable tree, but can't reach k:{k}.\")\n",
    "            print(f\"NO. The branching algorithm find out there is no maximum leaf spanning tree in G.\")\n",
    "    show(G_plot)"
   ]
  },
  {
   "cell_type": "code",
   "execution_count": null,
   "id": "d0eb64b1",
   "metadata": {},
   "outputs": [],
   "source": []
  }
 ],
 "metadata": {
  "kernelspec": {
   "display_name": "SageMath 9.5",
   "language": "sage",
   "name": "sagemath"
  },
  "language_info": {
   "codemirror_mode": {
    "name": "ipython",
    "version": 3
   },
   "file_extension": ".py",
   "mimetype": "text/x-python",
   "name": "python",
   "nbconvert_exporter": "python",
   "pygments_lexer": "ipython3",
   "version": "3.10.12"
  }
 },
 "nbformat": 4,
 "nbformat_minor": 5
}
