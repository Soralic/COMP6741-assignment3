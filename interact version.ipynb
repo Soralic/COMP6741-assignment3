{
 "cells": [
  {
   "cell_type": "code",
   "execution_count": 67,
   "id": "f3e9e706",
   "metadata": {},
   "outputs": [
    {
     "name": "stderr",
     "output_type": "stream",
     "text": [
      "Widget Javascript not detected.  It may not be installed or enabled properly. Reconnecting the current kernel may help.\n"
     ]
    },
    {
     "data": {
      "application/vnd.jupyter.widget-view+json": {
       "model_id": "fcd669ba22aa4e9b9551cc36156ea79c"
      }
     },
     "metadata": {},
     "output_type": "display_data"
    }
   ],
   "source": [
    "import copy\n",
    "\n",
    "# define edges and nodes\n",
    "vertices = [1, 2, 3, 4, 5, 6, 7, 8]  # including nodes of 0 degree(7 & 8)\n",
    "edges = [(1, 2), (2, 3), (3, 1), (3, 4), (4, 5), (5, 6), (6, 4), (1, 9)]\n",
    "# create the graph\n",
    "G = Graph([vertices, edges])\n",
    "# number of edge: G.size()\n",
    "\n",
    "vertex_cover = []\n",
    "edge_cover = []\n",
    "options = ['Restart', 'Select vertex', 'Remove vertex']\n",
    "remaining_k = 0\n",
    "initial_state = True\n",
    "\n",
    "# mark nodes in VC with color red\n",
    "vertex_colors = {'red': vertex_cover}\n",
    "# mark edges in EC with color yellow\n",
    "edge_colors = {'blue': edge_cover}\n",
    "\n",
    "\n",
    "@interact\n",
    "def _(option = selector(options, buttons=True),\n",
    "      set_k = input_box(default=5, label=\"Starting k:\"),\n",
    "      vertex = input_box(default=0, label=\"Select Vertex:\"),\n",
    "      auto_update = False):\n",
    "\n",
    "    global vertex_cover, edge_cover, remaining_k, initial_state\n",
    "    if initial_state:\n",
    "        initial_state = False\n",
    "        remaining_k = deepcopy(set_k)\n",
    "\n",
    "    if option=='Restart':\n",
    "        vertex_cover=[]\n",
    "        edge_cover = []\n",
    "        remaining_k = deepcopy(set_k)\n",
    "    elif option=='Select vertex':\n",
    "        if remaining_k <= 0:\n",
    "            print('Cannot proceed!')\n",
    "        else:\n",
    "            if vertex not in vertex_cover:\n",
    "                vertex_cover.append(vertex)\n",
    "                remaining_k -= 1\n",
    "                # edge with one end is vertex\n",
    "                edges_connected = [(u, v) for u, v, _ in G.edges() if u == vertex or v == vertex]\n",
    "                for edge in edges_connected:\n",
    "                    if edge not in edge_cover:\n",
    "                        edge_cover.append(edge)\n",
    "    else:\n",
    "        if vertex in vertex_cover:\n",
    "            vertex_cover.remove(vertex)\n",
    "            remaining_k += 1\n",
    "            # edge with one end is vertex\n",
    "            edges_to_remove = [(u, v) for u, v in edge_cover if u == vertex or v == vertex]\n",
    "            for edge in edges_to_remove:\n",
    "                if edge in edge_cover:\n",
    "                    edge_cover.remove(edge)  # remove edge from edge cover\n",
    "    \n",
    "    vertex_colors = {'red': vertex_cover}\n",
    "    edge_colors = {'blue': edge_cover}\n",
    "    \n",
    "    print('Remaining k: ', remaining_k)\n",
    "    # show the result G\n",
    "    G.show(vertex_colors=vertex_colors, edge_colors=edge_colors, layout='circular')"
   ]
  },
  {
   "cell_type": "code",
   "execution_count": null,
   "id": "fe276bb5",
   "metadata": {},
   "outputs": [],
   "source": []
  }
 ],
 "metadata": {
  "kernelspec": {
   "display_name": "SageMath 9.5",
   "language": "sage",
   "name": "sagemath"
  },
  "language_info": {
   "codemirror_mode": {
    "name": "ipython",
    "version": 3
   },
   "file_extension": ".py",
   "mimetype": "text/x-python",
   "name": "python",
   "nbconvert_exporter": "python",
   "pygments_lexer": "ipython3",
   "version": "3.10.12"
  }
 },
 "nbformat": 4,
 "nbformat_minor": 5
}
