{
 "cells": [
  {
   "cell_type": "markdown",
   "id": "0e24d02b",
   "metadata": {},
   "source": [
    "# Using instruction\n",
    "1. To start using this tool fisrt select \"Restart\"\n",
    "2. When \"Restart\" is selected, you can set the k in \"Starting k\" text box, then click \"Run Interact\" to set.\n",
    "3. Then switch to \"Select vertex\", you can input the vertex that you want to put into Vertex Cover in \"Select Vertex\" text box\n",
    "4. If you want to remove any vertex from the Vertex Cover, switch to \"Remove Vertex\", and do the same as step3"
   ]
  },
  {
   "cell_type": "code",
   "execution_count": 5,
   "id": "65e0ab42",
   "metadata": {},
   "outputs": [
    {
     "name": "stderr",
     "output_type": "stream",
     "text": [
      "Widget Javascript not detected.  It may not be installed or enabled properly. Reconnecting the current kernel may help.\n"
     ]
    },
    {
     "data": {
      "application/vnd.jupyter.widget-view+json": {
       "model_id": "7cf25bb05f4b4681be7b5b4032092cfb"
      }
     },
     "metadata": {},
     "output_type": "display_data"
    }
   ],
   "source": [
    "import copy\n",
    "\n",
    "# define edges and nodes\n",
    "vertices = [1, 2, 3, 4, 5, 6, 7, 8]  # including nodes of 0 degree(7 & 8)\n",
    "edges = [(1, 2), (2, 3), (3, 1), (3, 4), (4, 5), (5, 6), (6, 4), (1, 9)]\n",
    "# create the graph\n",
    "G = Graph([vertices, edges])\n",
    "# number of edge: G.size()\n",
    "\n",
    "vertex_cover = []\n",
    "edge_cover = []\n",
    "options = ['Restart', 'Select vertex', 'Remove vertex']\n",
    "remaining_k = 0\n",
    "initial_state = True\n",
    "\n",
    "# mark nodes in VC with color red\n",
    "vertex_colors = {'red': vertex_cover}\n",
    "# mark edges in EC with color yellow\n",
    "edge_colors = {'blue': edge_cover}\n",
    "\n",
    "# obtain all vertices with degree-0\n",
    "degree_of_0 = [v for v in G.vertices() if G.degree(v) == 0]\n",
    "\n",
    "@interact\n",
    "def _(option = selector(options, buttons=True),\n",
    "      set_k = input_box(default=5, label=\"Starting k:\"),\n",
    "      vertex = input_box(default=0, label=\"Select Vertex:\"),\n",
    "      auto_update = False):\n",
    "\n",
    "    global vertex_cover, edge_cover, remaining_k, initial_state, degree_of_0\n",
    "    if initial_state:\n",
    "        initial_state = False\n",
    "        remaining_k = deepcopy(set_k)\n",
    "\n",
    "    if option=='Restart':\n",
    "        vertex_cover=[]\n",
    "        edge_cover = []\n",
    "        remaining_k = deepcopy(set_k)\n",
    "    elif option=='Select vertex':\n",
    "#         if remaining_k <= 0:\n",
    "#             print('Cannot proceed!')\n",
    "#         elif len(edge_cover) == G.size():\n",
    "#             print('You have found a vertex cover!')\n",
    "#         else:\n",
    "            if vertex not in vertex_cover and vertex not in degree_of_0:\n",
    "                vertex_cover.append(vertex)\n",
    "                remaining_k -= 1\n",
    "                # edge with one end is vertex\n",
    "                edges_connected = [(u, v) for u, v, _ in G.edges() if u == vertex or v == vertex]\n",
    "                for edge in edges_connected:\n",
    "                    if edge not in edge_cover:\n",
    "                        edge_cover.append(edge)\n",
    "    else:\n",
    "        if vertex in vertex_cover:\n",
    "            vertex_cover.remove(vertex)\n",
    "            remaining_k += 1\n",
    "            # edge with one end is vertex\n",
    "            edges_to_remove = [(u, v) for u, v in edge_cover if (u == vertex and v not in vertex_cover) or (v == vertex and u not in vertex_cover)]\n",
    "            for edge in edges_to_remove:\n",
    "                if edge in edge_cover:\n",
    "                    edge_cover.remove(edge)  # remove edge from edge cover\n",
    "    \n",
    "    vertex_colors = {'red': vertex_cover}\n",
    "    edge_colors = {'blue': edge_cover}\n",
    "\n",
    "    if len(edge_cover) == G.size():\n",
    "        print('You have found a vertex cover!')\n",
    "    elif remaining_k <= 0:\n",
    "        print('Cannot proceed!')\n",
    "\n",
    "    print('Remaining k: ', remaining_k)\n",
    "    # show the result G\n",
    "    G.show(vertex_colors=vertex_colors, edge_colors=edge_colors, layout='circular')"
   ]
  },
  {
   "cell_type": "code",
   "execution_count": null,
   "id": "96b17375",
   "metadata": {},
   "outputs": [],
   "source": []
  }
 ],
 "metadata": {
  "kernelspec": {
   "display_name": "SageMath 9.5",
   "language": "sage",
   "name": "sagemath"
  },
  "language_info": {
   "codemirror_mode": {
    "name": "ipython",
    "version": 3
   },
   "file_extension": ".py",
   "mimetype": "text/x-python",
   "name": "python",
   "nbconvert_exporter": "python",
   "pygments_lexer": "ipython3",
   "version": "3.10.12"
  }
 },
 "nbformat": 4,
 "nbformat_minor": 5
}
