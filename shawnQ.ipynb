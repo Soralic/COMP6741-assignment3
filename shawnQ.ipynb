{
 "cells": [
  {
   "cell_type": "code",
   "execution_count": 13,
   "metadata": {
    "vscode": {
     "languageId": "python"
    }
   },
   "outputs": [],
   "source": [
    "'''\n",
    "def parse_input_file(filename):\n",
    "    with open(filename, 'r') as file:\n",
    "        lines = file.readlines()\n",
    "        \n",
    "    _, _, num_vertices_A, num_vertices_B, num_edges = lines[0].split()\n",
    "    num_vertices_A, num_vertices_B, num_edges = int(num_vertices_A), int(num_vertices_B), int(num_edges)\n",
    "    \n",
    "    edges = []\n",
    "    for line in lines[1:]:\n",
    "        if line.strip(): \n",
    "            vertex_a, vertex_b = line.split()\n",
    "            edges.append((int(vertex_a), int(vertex_b)))\n",
    "    \n",
    "    return num_vertices_A, num_vertices_B, edges\n",
    "'''\n",
    "\n",
    "def is_acyclic(graph):\n",
    "    return graph.is_forest()\n",
    "\n",
    "def feedback_vertex_set(graph, k):\n",
    "    # (Finished)\n",
    "    if is_acyclic(graph) and k >= 0:\n",
    "        return True\n",
    "    \n",
    "    # (Budget-exceeded)\n",
    "    if k < 0:\n",
    "        return False\n",
    "    \n",
    "    # Loop through each vertex to apply rules\n",
    "    for v in graph.vertices():\n",
    "        # (Loop)\n",
    "        if graph.has_edge(v, v):\n",
    "            graph.delete_vertex(v)\n",
    "            return feedback_vertex_set(graph, k - 1)\n",
    "        \n",
    "    # (Multiedge)\n",
    "    for u, v in graph.edges(labels=False):\n",
    "        if graph.multiple_edges(u, v):\n",
    "            graph.merge_edges([(u, v)], loops=True)\n",
    "    \n",
    "    # (Degree-1)\n",
    "    for v in graph.vertices():\n",
    "        if graph.degree(v) <= 1:\n",
    "            graph.delete_vertex(v)\n",
    "            return feedback_vertex_set(graph, k)\n",
    "    \n",
    "    # (Degree-2)\n",
    "    for v in graph.vertices():\n",
    "        if graph.degree(v) == 2:\n",
    "            u, w = graph.neighbors(v)\n",
    "            graph.delete_vertex(v)\n",
    "            if not graph.has_edge(u, w):\n",
    "                graph.add_edge(u, w)\n",
    "            return feedback_vertex_set(graph, k)\n",
    "    \n",
    "    # Recursive case: choose a vertex to include in the FVS\n",
    "    for v in graph.vertices():\n",
    "        graph_copy = graph.copy()\n",
    "        graph_copy.delete_vertex(v)\n",
    "        if feedback_vertex_set(graph_copy, k - 1):\n",
    "            return True\n",
    "    return False"
   ]
  },
  {
   "cell_type": "code",
   "execution_count": 14,
   "metadata": {
    "vscode": {
     "languageId": "python"
    }
   },
   "outputs": [
    {
     "name": "stdout",
     "output_type": "stream",
     "text": [
      "Exists a feedback vertex set of size at most k? True\n"
     ]
    }
   ],
   "source": [
    "#filename = r\"C:\\Users\\86234\\Desktop\\jz\\5386\\tiny_test_set\\star_6.gr\" \n",
    "#num_vertices_A, num_vertices_B, edges = parse_input_file(filename)\n",
    "G = Graph([('a', 'b'), ('b', 'c'), ('c', 'a'), ('c', 'd'), ('d', 'e')])\n",
    "#G.add_edges(edges)\n",
    "k = 3 #searching for a FVS of size at most 2\n",
    "result = feedback_vertex_set(G, k)\n",
    "print(\"Exists a feedback vertex set of size at most k?\", result)"
   ]
  }
 ],
 "metadata": {
  "kernelspec": {
   "display_name": "SageMath 9.5",
   "language": "sage",
   "name": "SageMath-9.5"
  },
  "language_info": {
   "codemirror_mode": {
    "name": "ipython",
    "version": 3
   },
   "file_extension": ".py",
   "mimetype": "text/x-python",
   "name": "sage",
   "nbconvert_exporter": "python",
   "pygments_lexer": "ipython3",
   "version": "3.9.9"
  }
 },
 "nbformat": 4,
 "nbformat_minor": 4
}
