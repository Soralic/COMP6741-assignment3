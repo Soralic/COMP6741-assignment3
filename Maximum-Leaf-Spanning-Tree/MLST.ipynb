{
 "cells": [
  {
   "cell_type": "markdown",
   "id": "80290980",
   "metadata": {},
   "source": [
    "## 1. Key conceptions in Maximum Leaf Spanning Tree\n",
    "### 1.1. terminologies\n",
    "\n",
    "<p style=\"color: yellow; font-weight: bold; text-shadow: -1px -1px 0 #000, 1px -1px 0 #000, -1px 1px 0 #000, 1px 1px 0 #000;\">T -  a tree in G(includes edges and I, B, L)</p>\n",
    "<p style=\"color: yellow; font-weight: bold; text-shadow: -1px -1px 0 #000, 1px -1px 0 #000, -1px 1px 0 #000, 1px 1px 0 #000;\">I - the internal vertices of T, with r∈I</p>\n",
    "<p style=\"color: red;\">B - a subset of the leaves of T where T may be extended: the boundary set</p>\n",
    "<p style=\"color: green;\">L - the remaining leaves of T</p>\n",
    "<p style=\"color: black;\">X - the external vertices V\\V(T)</p>\n",
    "Here is a simple exmple of them:"
   ]
  },
  {
   "cell_type": "code",
   "execution_count": null,
   "id": "f9ce055a",
   "metadata": {},
   "outputs": [],
   "source": [
    "G_instruction_example = Graph([(1, 2), (1, 3), (2, 4), (4, 5), (4, 6), (3, 7), (3, 8), (2, 9), (9, 10)])\n",
    "T = Graph([(1, 2), (1, 3), (2, 4), (3, 7), (3, 8), (2, 9)])\n",
    "I = {1, 2, 3}\n",
    "L = {7, 8}\n",
    "B = {4, 9}\n",
    "X = {5, 6, 10}\n",
    "# vertex colors\n",
    "vertex_colors = {'green': list(L), 'red': list(B), 'white': list(X), 'yellow': list(I)}\n",
    "\n",
    "# edge_colors\n",
    "edge_colors = {'yellow': T.edges(labels=False)}\n",
    "G_instruction_example.show(vertex_colors=vertex_colors, edge_colors=edge_colors, layout='tree', tree_root=1, tree_orientation=\"down\")"
   ]
  },
  {
   "cell_type": "markdown",
   "id": "04c9b953",
   "metadata": {},
   "source": [
    "### 1.2. Lemmas"
   ]
  },
  {
   "cell_type": "markdown",
   "id": "89d67306",
   "metadata": {},
   "source": [
    "#### 1.2.1. Branching Lemma\n",
    "Suppose u ∈ B and there exists a k-leaf tree T' extending T where u is an internal vertex.\n",
    "Then, there exists a k-leaf tree T' extending (V(T)∪N_G(u),E(T)∪{uv:v∈N_G(u)∩X}).\n",
    "\n",
    "For example, if we choose node 4 in Graph above, here is result after execute the branching lemma."
   ]
  },
  {
   "cell_type": "code",
   "execution_count": 18,
   "id": "1ed14cb4",
   "metadata": {},
   "outputs": [
    {
     "data": {
      "image/png": "[encoded data removed]",
      "text/plain": [
       "Graphics object consisting of 20 graphics primitives"
      ]
     },
     "metadata": {},
     "output_type": "display_data"
    }
   ],
   "source": [
    "T = Graph([(1, 2), (1, 3), (2, 4), (3, 7), (3, 8), (2, 9), (4, 6), (4, 5)])\n",
    "I = {1, 2, 3, 4}\n",
    "L = {7, 8}\n",
    "B = {5, 6, 9}\n",
    "X = {10}\n",
    "# vertex colors\n",
    "vertex_colors = {'green': list(L), 'red': list(B), 'white': list(X), 'yellow': list(I)}\n",
    "\n",
    "# edge_colors\n",
    "edge_colors = {'yellow': T.edges(labels=False)}\n",
    "G_instruction_example.show(vertex_colors=vertex_colors, edge_colors=edge_colors, layout='tree', tree_root=1, tree_orientation=\"down\")"
   ]
  },
  {
   "cell_type": "markdown",
   "id": "91266131",
   "metadata": {},
   "source": [
    "#### 1.2.2. Non-extendable simplification rule\n",
    "\n",
    "If exists v ∈ B with N_G(v) ∩ X = Ø, then move v to L.\n",
    "\n",
    "For example, if we apply this simplification rule to the graph above, here is result."
   ]
  },
  {
   "cell_type": "code",
   "execution_count": 19,
   "id": "5f7aa66a",
   "metadata": {},
   "outputs": [
    {
     "data": {
      "image/png": "[encoded data removed]",
      "text/plain": [
       "Graphics object consisting of 20 graphics primitives"
      ]
     },
     "metadata": {},
     "output_type": "display_data"
    }
   ],
   "source": [
    "T = Graph([(1, 2), (1, 3), (2, 4), (3, 7), (3, 8), (2, 9), (4, 6), (4, 5)])\n",
    "I = {1, 2, 3, 4}\n",
    "L = {5, 6, 7, 8}\n",
    "B = {9}\n",
    "X = {10}\n",
    "# vertex colors\n",
    "vertex_colors = {'green': list(L), 'red': list(B), 'white': list(X), 'yellow': list(I)}\n",
    "\n",
    "# edge_colors\n",
    "edge_colors = {'yellow': T.edges(labels=False)}\n",
    "G_instruction_example.show(vertex_colors=vertex_colors, edge_colors=edge_colors, layout='tree', tree_root=1, tree_orientation=\"down\")"
   ]
  },
  {
   "cell_type": "markdown",
   "id": "e57925f1",
   "metadata": {},
   "source": [
    "#### 1.2.3. Follow Path Lemma\n",
    "Suppose u ∈ B and |N_G(u)∩X| = 1. Let N_G(u)∩X = {v}.\n",
    "If there exists a k-leaf tree extending T where u is internal, but no k-leaf tree extending T where u is a leaf, then there exists a k-leaf tree extending T where both u and v are internal.\n",
    "\n",
    "Here is simple exmple of use of Follow Path Lemma:"
   ]
  },
  {
   "cell_type": "code",
   "execution_count": 1,
   "id": "d2f5f39a",
   "metadata": {},
   "outputs": [
    {
     "name": "stderr",
     "output_type": "stream",
     "text": [
      "Widget Javascript not detected.  It may not be installed or enabled properly. Reconnecting the current kernel may help.\n"
     ]
    },
    {
     "data": {
      "application/vnd.jupyter.widget-view+json": {
       "model_id": "a6aadba4e2cc4eeaa67af1f34569e086"
      }
     },
     "metadata": {},
     "output_type": "display_data"
    }
   ],
   "source": [
    "import copy\n",
    "G_instruction_example = Graph([(1, 2), (2, 3), (3, 4), (4, 5), (5, 6), (6, 7), (7, 8), (7, 9)])\n",
    "steps_instruction_example = []\n",
    "#initial state\n",
    "u = 1\n",
    "T = Graph()\n",
    "T.add_vertex(u)\n",
    "I = set()\n",
    "L = set()\n",
    "B = {u}\n",
    "X = set(G_instruction_example.vertices()) - {u}\n",
    "neighbors_X = set(G_instruction_example.neighbors(u)) & X\n",
    "#Follow Path Lemma\n",
    "while len(neighbors_X) == 1:\n",
    "    v = neighbors_X.pop()\n",
    "    X.remove(v)\n",
    "    T.add_edge(u, v)\n",
    "    neighbors_X = set(G_instruction_example.neighbors(v)) & X\n",
    "    u = v  # update v as new u(current vertex)\n",
    "    if len(neighbors_X) == 1:\n",
    "        I.add(u)\n",
    "    elif len(neighbors_X) != 1:\n",
    "        B.add(u)\n",
    "    steps_instruction_example.append([copy.deepcopy(T), copy.deepcopy(I), copy.deepcopy(B), copy.deepcopy(L), copy.deepcopy(X), 5])\n",
    "@interact\n",
    "def show_step(step=slider(0, len(steps_instruction_example)-1, 1, label=\"Step\")):\n",
    "    T, I, B, L, X, operation_type = steps_instruction_example[step]\n",
    "    # vertex colors\n",
    "    vertex_colors = {'green': list(L), 'red': list(B), 'white': list(X), 'yellow': list(I)}\n",
    "\n",
    "    # edge_colors\n",
    "    edge_colors = {'yellow': T.edges(labels=False)}\n",
    "    \n",
    "    # plot graph\n",
    "    G_instruction_example_plot = G_instruction_example.plot(vertex_colors=vertex_colors, edge_colors=edge_colors, layout='circular')\n",
    "    \n",
    "    show(G_instruction_example_plot)"
   ]
  },
  {
   "cell_type": "markdown",
   "id": "5144b90d",
   "metadata": {},
   "source": [
    "## 2. Branching algorithm for maximum leaf spanning tree"
   ]
  },
  {
   "cell_type": "code",
   "execution_count": 35,
   "id": "41bd6d76",
   "metadata": {},
   "outputs": [],
   "source": [
    "steps = []\n",
    "def extend_tree(G, k, T, I, B, L, X, recall):\n",
    "    #record all steps\n",
    "    recall = 0\n",
    "    \n",
    "    # Halt - yes\n",
    "    if len(L) + len(B) >= k:\n",
    "        return True\n",
    "    \n",
    "    # Halt - No\n",
    "    if len(B) == 0:\n",
    "        steps[-1][5] += 1\n",
    "        return False\n",
    "    \n",
    "    # Simplication rule：If exist v∈B with N_G(v) ∩ X = 0, then move v to L\n",
    "    B_to_L = {v for v in B if not set(G.neighbors(v)) & X}\n",
    "    for v in B_to_L:\n",
    "        B.remove(v)\n",
    "        L.add(v)\n",
    "        steps.append([copy.deepcopy(T), copy.deepcopy(I), copy.deepcopy(B), copy.deepcopy(L), copy.deepcopy(X), copy.deepcopy(recall), 2])\n",
    "\n",
    "    #Select u from B\n",
    "    for u in list(B):\n",
    "        \n",
    "        # branch 1: try to move a vertex from B to L\n",
    "        B.remove(u)\n",
    "        L.add(u)  \n",
    "        steps.append([copy.deepcopy(T), copy.deepcopy(I), copy.deepcopy(B), copy.deepcopy(L), copy.deepcopy(X), copy.deepcopy(recall), 3])\n",
    "        if extend_tree(G, k, T, I, B, L, X, recall):\n",
    "            return True\n",
    "        # recall branch 1\n",
    "        L.remove(u)\n",
    "        B.add(u)\n",
    "        steps.append([copy.deepcopy(T), copy.deepcopy(I), copy.deepcopy(B), copy.deepcopy(L), copy.deepcopy(X), copy.deepcopy(recall), 4])\n",
    "\n",
    "        # branch 2: handle u as a internal vertex (Branching Lemma)\n",
    "        original_u = u  # save the original vertex\n",
    "        added_edges = []  # save added edges\n",
    "        B.remove(u)\n",
    "        I.add(u)\n",
    "        neighbors_X = set(G.neighbors(u)) & X\n",
    "        \n",
    "        #Follow Path Lemma\n",
    "        while len(neighbors_X) == 1:\n",
    "            v = neighbors_X.pop()\n",
    "            X.remove(v)\n",
    "            T.add_edge(u, v)\n",
    "            added_edges.append((u, v))\n",
    "            neighbors_X = set(G.neighbors(v)) & X\n",
    "            u = v  # update v as new u(current vertex)\n",
    "            if len(neighbors_X) == 1:\n",
    "                I.add(u)\n",
    "            elif len(neighbors_X) != 1:\n",
    "                B.add(u)\n",
    "            steps.append([copy.deepcopy(T), copy.deepcopy(I), copy.deepcopy(B), copy.deepcopy(L), copy.deepcopy(X), copy.deepcopy(recall), 5])\n",
    "        \n",
    "        B.discard(u)\n",
    "        # process branch 2\n",
    "        for v in neighbors_X:\n",
    "            T.add_edge(u, v)\n",
    "            added_edges.append((u, v))\n",
    "            B.add(v)\n",
    "            X.remove(v)\n",
    "            steps.append([copy.deepcopy(T), copy.deepcopy(I), copy.deepcopy(B), copy.deepcopy(L), copy.deepcopy(X), copy.deepcopy(recall), 6])\n",
    "    \n",
    "        if extend_tree(G, k, T, I, B, L, X, recall):\n",
    "            return True\n",
    "    \n",
    "        # recall branch 2\n",
    "        for u, v in added_edges:\n",
    "            T.delete_edge((u, v))  # delete added edges\n",
    "            I.discard(v)\n",
    "            X.add(v)\n",
    "        I.discard(original_u)  # remove original u\n",
    "        B.add(original_u)  # add original u to B\n",
    "        X.update(neighbors_X)  # update unused vertices to X\n",
    "        for v in neighbors_X:\n",
    "            B.discard(v)  # remove vertices from B\n",
    "        steps.append([copy.deepcopy(T), copy.deepcopy(I), copy.deepcopy(B), copy.deepcopy(L), copy.deepcopy(X), copy.deepcopy(recall), 7])\n",
    "    steps[-1][5] += 1\n",
    "    return False\n",
    "\n",
    "def max_leaf_spanning_tree(G, k):\n",
    "    T = Graph()\n",
    "    I = set()\n",
    "    L = set()\n",
    "    B = set()\n",
    "    X = set(G.vertices())\n",
    "    recall = 0\n",
    "    # save initial state\n",
    "    for r in G.vertices():\n",
    "        steps.append([Graph(), set(), set(), set(), set(G.vertices()), 0, 8])\n",
    "        T = Graph() #a tree in G\n",
    "        T.add_vertex(r) #add initial vertex to T\n",
    "        I = set()  # the internal vertices of T, with r∈I\n",
    "        L = set()  # the remaining leaves of T\n",
    "        B = {r}  # a subset of the leaves of T where T may be extended: the boundary set\n",
    "        X = set(G.vertices()) - {r}  # the external vertices V\\V(T)\n",
    "        steps.append([copy.deepcopy(T), copy.deepcopy(I), copy.deepcopy(B), copy.deepcopy(L), copy.deepcopy(X), copy.deepcopy(recall), 1])\n",
    "        if extend_tree(G, k, T, I, B, L, X, recall):\n",
    "            return True, T\n",
    "    return False, None\n"
   ]
  },
  {
   "cell_type": "code",
   "execution_count": 36,
   "id": "ec8c9000",
   "metadata": {},
   "outputs": [
    {
     "name": "stdout",
     "output_type": "stream",
     "text": [
      "Exist a spanning tree with maximum leaf number of 3.\n"
     ]
    }
   ],
   "source": [
    "# use example\n",
    "G = Graph([('a', 'b'), ('b', 'c'), ('c', 'a'), ('c', 'd'), ('d', 'e')])  \n",
    "k = 3  # target least number of leaves\n",
    "result, T = max_leaf_spanning_tree(G, k)\n",
    "if result:\n",
    "    print(\"Exist a spanning tree with maximum leaf number of {}.\".format(k))\n",
    "else:\n",
    "    print(\"Not Exist a spanning tree with maximum leaf number of {}.\".format(k))"
   ]
  },
  {
   "cell_type": "markdown",
   "id": "484fd5dc",
   "metadata": {},
   "source": [
    "## 3. Algorithm demonstration"
   ]
  },
  {
   "cell_type": "code",
   "execution_count": 38,
   "id": "b8204d5c",
   "metadata": {},
   "outputs": [
    {
     "name": "stderr",
     "output_type": "stream",
     "text": [
      "Widget Javascript not detected.  It may not be installed or enabled properly. Reconnecting the current kernel may help.\n"
     ]
    },
    {
     "data": {
      "application/vnd.jupyter.widget-view+json": {
       "model_id": "52cecf75e39e4ea995dd7efcadb12811"
      }
     },
     "metadata": {},
     "output_type": "display_data"
    }
   ],
   "source": [
    "@interact\n",
    "def show_step(step=slider(0, len(steps)-1, 1, label=\"Step\")):\n",
    "    T, I, B, L, X, recall, operation_type = steps[step]\n",
    "    # vertex colors\n",
    "    vertex_colors = {'green': list(L), 'red': list(B), 'white': list(X), 'yellow': list(I)}\n",
    "\n",
    "    # edge_colors\n",
    "    edge_colors = {'yellow': T.edges(labels=False)}\n",
    "    \n",
    "    # plot graph\n",
    "    G_plot = G.plot(vertex_colors=vertex_colors, edge_colors=edge_colors, layout='circular')\n",
    "    \n",
    "    # show current steps of algorithm\n",
    "    \n",
    "    print(\"The current tree T are represented in yellow, the nodes in B are in red, the nodes in L are in green,\")\n",
    "    print(\" and the remaining unchanged parts(X) set to white.\\n\")\n",
    "    print(f\"Current state: I:{I if I else ' Null'}, B:{B if B else ' Null'}, L:{L if L else ' Null'}, X:{X if X else ' Null'}, k:{k}\\n\")\n",
    "    \n",
    "    # operation explanation\n",
    "    if operation_type == 1:\n",
    "        print(f\"This state we choose a new vertex as a start vertex.\\n\")\n",
    "    elif operation_type == 2:\n",
    "        print(f\"Simplication rule：If exist v∈B with N_G(v) ∩ X = 0, then move v to L.\")\n",
    "        print(f\"This means all vertices in B that can not be expanded will be moved to L.\\n\")\n",
    "    elif operation_type == 3:\n",
    "        print(f\"This step we go to branch 1: try to move a vertex from B to L.\\n\")\n",
    "    elif operation_type == 4:\n",
    "        print(f\"Recall the branch 1 operation: move the vertex back to B.\\n\")\n",
    "    elif operation_type == 5:\n",
    "        print(f\"This step will process follow path lemma.\\n\")\n",
    "    elif operation_type == 6:\n",
    "        print(f\"This step we go to branch 2: handle current vertex u as a internal vertex (Branching Lemma).\")\n",
    "        print(f\"Then, put all vertices adjacent to the current vertex u and not yet processed into set B.\\n\")\n",
    "    elif operation_type == 7:\n",
    "        print(f\"Recall the branch 2 operation: Branching Lemma.\\n\")\n",
    "    elif operation_type == 8:\n",
    "        print(f\"This step is initial state of the graph.\\n\")\n",
    "    \n",
    "    # recall info\n",
    "    if recall == 1:\n",
    "        print(f\"This branch has no more leaves that may be extended, this state will recall {recall} step.\\n\")\n",
    "    elif recall == 3:\n",
    "        print(f\"This initial vertex is not available, the state will recall to initial graph and choose a new initial vertex.\\n\")\n",
    "    \n",
    "    #result\n",
    "    if step == len(steps)-1:\n",
    "        if result:\n",
    "            print(f\"The number of sum of vertices in B and vertices in L has reached k:{k}.\")\n",
    "            print(f\"YES. The branching algorithm find a maximum leaf spanning tree with at least {k} leaves.\\n\")\n",
    "        else:\n",
    "            print(f\"The branching algorithm has test all viable tree, but can't reach k:{k}.\")\n",
    "            print(f\"NO. The branching algorithm find out there is no maximum leaf spanning tree in G.\\n\")\n",
    "    show(G_plot)"
   ]
  }
 ],
 "metadata": {
  "kernelspec": {
   "display_name": "SageMath 9.5",
   "language": "sage",
   "name": "sagemath"
  },
  "language_info": {
   "codemirror_mode": {
    "name": "ipython",
    "version": 3
   },
   "file_extension": ".py",
   "mimetype": "text/x-python",
   "name": "python",
   "nbconvert_exporter": "python",
   "pygments_lexer": "ipython3",
   "version": "3.10.12"
  }
 },
 "nbformat": 4,
 "nbformat_minor": 5
}
